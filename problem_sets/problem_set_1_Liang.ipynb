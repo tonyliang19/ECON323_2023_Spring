{
 "cells": [
  {
   "cell_type": "markdown",
   "id": "10dfc96f",
   "metadata": {},
   "source": [
    "# Problem Set 1\n"
   ]
  },
  {
   "cell_type": "markdown",
   "id": "d17a20e0",
   "metadata": {},
   "source": [
    "<!-- BEGIN QUESTION -->\n",
    "\n",
    "## Question 1\n",
    "\n",
    "Below this cell, add\n",
    "\n",
    "1. A Markdown cell with\n",
    "   -  two levels of headings;\n",
    "   -  a numbered list (We ask for a list in Markdown, not a Python list object);\n",
    "   -  an unnumbered list (again not a Python list object);\n",
    "   -  a LaTeX equation that includes a `%` sign (hint: [escape characters](https://www.markdownguide.org/basic-syntax/#characters-you-can-escape))\n",
    "   -  backticked code (see [https://github.com/adam-p/markdown-here/wiki/Markdown-Cheatsheet](https://github.com/adam-p/markdown-here/wiki/Markdown-Cheatsheet))\n",
    "1. A Markdown cell with\n",
    "   - the [quadratic formula](https://en.wikipedia.org/wiki/Quadratic_formula) embedded in the cell using [LaTeX](https://jupyter-notebook.readthedocs.io/en/stable/examples/Notebook/Typesetting%20Equations.html)"
   ]
  },
  {
   "cell_type": "markdown",
   "id": "20ab5fcd-c674-4088-8176-8e5ea4b43ab8",
   "metadata": {
    "tags": []
   },
   "source": [
    "# First level of heading\n",
    "## Second level of heading\n",
    "1. Numbered 1\n",
    "1. Numbered 2\n",
    "- Unnumbered 1\n",
    "- Unnumbered 2\n",
    "\n",
    "This is a LaTeX equation that includes \\% sign: $1/4 = 25\\%$\n",
    "\n",
    "\n",
    "`This is a backticked code, i.e. print(\"Hello\")`"
   ]
  },
  {
   "cell_type": "markdown",
   "id": "efe0eed5-a070-4073-a48c-55bfe5ef9302",
   "metadata": {},
   "source": [
    "This is the quadratic formula:\n",
    "\n",
    "$$x = \\frac{-b \\pm \\sqrt{b^2 - 4ac}}{2a}$$"
   ]
  },
  {
   "cell_type": "markdown",
   "id": "7ba1c023",
   "metadata": {},
   "source": [
    "<!-- END QUESTION -->\n",
    "\n",
    "## Question 2\n",
    "\n",
    "Complete the following code, which sets up variables `a, b,` and `c`, to find the roots using the quadratic formula.\n",
    "Set `a` equal to `1`, `b` equal to `4`, and `c` equal to `3`.\n",
    "\n",
    "$$\n",
    "x=\\frac{-b\\pm\\sqrt{b^2-4ac}}{2a}\n",
    "$$\n",
    "\n",
    "Note: because there are two roots, you will need to calculate two\n",
    "values. Store them as `x1` and `x2`."
   ]
  },
  {
   "cell_type": "code",
   "execution_count": 1,
   "id": "f0d35953",
   "metadata": {
    "tags": []
   },
   "outputs": [
    {
     "data": {
      "text/plain": [
       "(-1.0, -3.0)"
      ]
     },
     "execution_count": 1,
     "metadata": {},
     "output_type": "execute_result"
    }
   ],
   "source": [
    "# Calculates the quadratic formula given a, b, c of a polynomial equation\n",
    "# of the form ax^2 + bx + c\n",
    "\n",
    "# This is buggy??\n",
    "def quadratic_formula(a, b, c):\n",
    "    det = b**2 - (4*a*c)\n",
    "    x1 = (-b + det**(0.5)) / (2 * a)\n",
    "    x2 = (-b - det**(0.5)) / (2 * a)\n",
    "    return x1, x2\n",
    "\n",
    "\n",
    "# This is an example of calling the function\n",
    "quadratic_formula(a=1, b=4, c=3)"
   ]
  },
  {
   "cell_type": "markdown",
   "id": "54b5b769",
   "metadata": {},
   "source": [
    "## Question 3\n",
    "\n",
    "In the cell below, use tab completion to find a function from the time\n",
    "module that returns the **local** time.\n",
    "\n",
    "Use `time.FUNC_NAME?` (where `FUNC_NAME` is replaced with the name\n",
    "of the function you found) to see information about that function,\n",
    "then call the function. (Hint: look for something involving the word\n",
    "`local`)."
   ]
  },
  {
   "cell_type": "code",
   "execution_count": 2,
   "id": "b1327d02",
   "metadata": {
    "tags": []
   },
   "outputs": [
    {
     "data": {
      "text/plain": [
       "'Tue Jan 10 19:20:08 2023'"
      ]
     },
     "execution_count": 2,
     "metadata": {},
     "output_type": "execute_result"
    }
   ],
   "source": [
    "import time\n",
    "# Your code goes here\n",
    "# This function returns the current time of local time zone\n",
    "time.ctime()"
   ]
  },
  {
   "cell_type": "markdown",
   "id": "007f3603",
   "metadata": {},
   "source": [
    "Hint: if you are using an online jupyter server, the time will be based on\n",
    "the server settings.  If it doesn't match your location, don't worry about it."
   ]
  },
  {
   "cell_type": "markdown",
   "id": "8d262079",
   "metadata": {},
   "source": [
    "## Question 4\n",
    "\n",
    "Create the following variables:\n",
    "\n",
    "- `D`: A floating point number with the value 10,000\n",
    "- `r`: A floating point number with the value 0.025\n",
    "- `T`: An integer with the value 30\n",
    "\n",
    "Compute the present discounted value of a payment (`D`) made\n",
    "in `T` years, assuming an interest rate of 2.5%. Save this value to\n",
    "a new variable called `PDV` and print your output.\n",
    "\n",
    "Hint: The formula is\n",
    "\n",
    "$$\n",
    "\\text{PDV} = \\frac{D}{(1 + r)^T}\n",
    "$$"
   ]
  },
  {
   "cell_type": "code",
   "execution_count": 3,
   "id": "431c6ba1-f383-4d62-88b8-baf9d3198241",
   "metadata": {},
   "outputs": [
    {
     "data": {
      "text/plain": [
       "4767.426851809713"
      ]
     },
     "execution_count": 3,
     "metadata": {},
     "output_type": "execute_result"
    }
   ],
   "source": [
    "D = float(10000)\n",
    "r = 0.025\n",
    "T = int(30\n",
    "       )\n",
    "PDV = D / (1 + r)**T\n",
    "PDV"
   ]
  },
  {
   "cell_type": "markdown",
   "id": "821bb2a1",
   "metadata": {},
   "source": [
    "## Question 5\n",
    "\n",
    "How could you use the variables `x` and `y` to create the sentence\n",
    "`Hello World` ?\n",
    "\n",
    "Hint: Think about how to represent a space as a string."
   ]
  },
  {
   "cell_type": "code",
   "execution_count": 4,
   "id": "e29f1862",
   "metadata": {
    "tags": []
   },
   "outputs": [
    {
     "name": "stdout",
     "output_type": "stream",
     "text": [
      "Hello World\n",
      "Hello World\n"
     ]
    }
   ],
   "source": [
    "x = \"Hello\"\n",
    "y = \"World\"\n",
    "# Your code goes here\n",
    "print(x, y)\n",
    "print(x + \" \" + y)"
   ]
  },
  {
   "cell_type": "markdown",
   "id": "b888354e",
   "metadata": {},
   "source": [
    "## Question 6\n",
    "\n",
    "Suppose you are working with price data and come across the value\n",
    "`\"€6.50\"`.\n",
    "\n",
    "When Python tries to interpret this value, it sees the value as the string\n",
    "`\"€6.50\"` instead of the number `6.50`. (Quiz: why is this a\n",
    "problem? Think about the examples above.)\n",
    "\n",
    "In this exercise, your task is to convert the variable `price` below\n",
    "into a number.\n",
    "\n",
    "*Hint*: Once the string is in a suitable format, you can call\n",
    "`float(clean_price)` to make it a number."
   ]
  },
  {
   "cell_type": "code",
   "execution_count": 5,
   "id": "f319841e",
   "metadata": {
    "tags": []
   },
   "outputs": [
    {
     "data": {
      "text/plain": [
       "6.5"
      ]
     },
     "execution_count": 5,
     "metadata": {},
     "output_type": "execute_result"
    }
   ],
   "source": [
    "price_string = \"€6.50\"\n",
    "clean_price = price_string[1:]\n",
    "float(clean_price)"
   ]
  },
  {
   "cell_type": "markdown",
   "id": "fa69abd9",
   "metadata": {},
   "source": [
    "<!-- BEGIN QUESTION -->\n",
    "\n",
    "## Question 7\n",
    "\n",
    "Use Python formatting (e.g. `print(f\"text {somecode}\")` where `somecode` is a valid expression or variable name) to produce the following\n",
    "output.\n",
    "\n",
    "```{code-block} none\n",
    "The 1st quarter revenue was $110M\n",
    "The 2nd quarter revenue was $95M\n",
    "The 3rd quarter revenue was $100M\n",
    "The 4th quarter revenue was $130M\n",
    "```"
   ]
  },
  {
   "cell_type": "code",
   "execution_count": 6,
   "id": "ba2f891a",
   "metadata": {
    "tags": []
   },
   "outputs": [
    {
     "name": "stdout",
     "output_type": "stream",
     "text": [
      "The 1st quarter revenue was $110M\n",
      "The 2nd quarter revenue was $95M\n",
      "The 3rd quarter revenue was $100M\n",
      "The 4th quarter revenue was $130M\n"
     ]
    }
   ],
   "source": [
    "# Your code goes here\n",
    "d = {\"1st\": 110,\n",
    "     \"2nd\": 95,\n",
    "     \"3rd\": 100,\n",
    "     \"4th\": 130}\n",
    "for q, r in d.items():\n",
    "    print(f\"The {q} quarter revenue was ${r}M\")"
   ]
  }
 ],
 "metadata": {
  "interpreter": {
   "hash": "e7370f93d1d0cde622a1f8e1c04877d8463912d04d973331ad4851f04de6915a"
  },
  "kernelspec": {
   "display_name": "Python [conda env:dsci]",
   "language": "python",
   "name": "conda-env-dsci-py"
  },
  "language_info": {
   "codemirror_mode": {
    "name": "ipython",
    "version": 3
   },
   "file_extension": ".py",
   "mimetype": "text/x-python",
   "name": "python",
   "nbconvert_exporter": "python",
   "pygments_lexer": "ipython3",
   "version": "3.10.8"
  },
  "orphan": true,
  "otter": {
   "tests": {
    "q2": {
     "name": "q2",
     "points": 2,
     "suites": [
      {
       "cases": [],
       "scored": true,
       "setup": "",
       "teardown": "",
       "type": "doctest"
      }
     ]
    },
    "q3": {
     "name": "q3",
     "points": 1,
     "suites": [
      {
       "cases": [],
       "scored": true,
       "setup": "",
       "teardown": "",
       "type": "doctest"
      }
     ]
    },
    "q4": {
     "name": "q4",
     "points": 2,
     "suites": [
      {
       "cases": [],
       "scored": true,
       "setup": "",
       "teardown": "",
       "type": "doctest"
      }
     ]
    },
    "q5": {
     "name": "q5",
     "points": 1,
     "suites": [
      {
       "cases": [],
       "scored": true,
       "setup": "",
       "teardown": "",
       "type": "doctest"
      }
     ]
    },
    "q6": {
     "name": "q6",
     "points": 1,
     "suites": [
      {
       "cases": [],
       "scored": true,
       "setup": "",
       "teardown": "",
       "type": "doctest"
      }
     ]
    },
    "q8": {
     "name": "q8",
     "points": 1,
     "suites": [
      {
       "cases": [],
       "scored": true,
       "setup": "",
       "teardown": "",
       "type": "doctest"
      }
     ]
    }
   }
  }
 },
 "nbformat": 4,
 "nbformat_minor": 5
}
