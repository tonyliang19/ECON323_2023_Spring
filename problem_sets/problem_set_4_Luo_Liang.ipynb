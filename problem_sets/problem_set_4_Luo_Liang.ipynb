{
 "cells": [
  {
   "cell_type": "markdown",
   "id": "432b23d1",
   "metadata": {},
   "source": [
    "# Problem Set 4\n"
   ]
  },
  {
   "cell_type": "markdown",
   "id": "c49538f9-409d-442d-9630-97c78000bcab",
   "metadata": {},
   "source": [
    "> Group members: \n",
    ">\n",
    "> Wanxin Luo (33432808) Section 003\n",
    "> \n",
    "> Tony Liang (39356993) Section 004\n",
    "\n",
    "We first tried problem by ourselves, and compared our solutions after finishing the assignment to check anywhere that we might have mismatched for certain questions (i.e. not getting same output), and solutions were combined to one `.ipynb`file."
   ]
  },
  {
   "cell_type": "code",
   "execution_count": 28,
   "id": "8143db95-c926-4369-87e8-b79dbb91dcd6",
   "metadata": {},
   "outputs": [],
   "source": [
    "# imports\n",
    "import numpy as np\n",
    "import matplotlib.pyplot as plt\n",
    "import scipy.stats as st\n",
    "import scipy.optimize as opt"
   ]
  },
  {
   "cell_type": "markdown",
   "id": "67db17c6",
   "metadata": {},
   "source": [
    "## Question 1\n",
    "\n",
    "As in [Applied Linear Algebra](https://datascience.quantecon.org/../scientific/applied_linalg.html):\n",
    "\n",
    "Consider an economy where in any given year, $ \\alpha = 4\\% $ of current employed workers lose their jobs and\n",
    "$ \\phi = 15\\% $ of unemployed workers find jobs.\n",
    "\n",
    "Define the vector $ x_0 = \\begin{bmatrix} 650,000 & 150,000 \\end{bmatrix} $ as the number of\n",
    "employed and unemployed workers (respectively) at time $ 0 $ in the economy.\n",
    "\n",
    "Adapting the code from the lecture notes, plot the unemployment rate over time in this economy for $ t = 0, \\ldots 20 $ (i.e. number of employed over the total number of workers)."
   ]
  },
  {
   "cell_type": "code",
   "execution_count": null,
   "id": "455411f1",
   "metadata": {
    "hide-output": false
   },
   "outputs": [],
   "source": [
    "# your code here\n",
    "\n",
    "# Adapted from Applied Linear Algebra lec\n",
    "# number of employed and unemployed at time 0\n",
    "x0 = np.array([650_000, 150_000])\n",
    "\n",
    "# rates alpha = 0.04, phi = 0.15\n",
    "alpha = 0.04\n",
    "phi = 0.15\n",
    "\n",
    "# corresponding matrix\n",
    "A = np.array([[1-alpha, alpha],\n",
    "              [phi, 1-phi]])\n",
    "\n",
    "# helper to plot simulation\n",
    "def plot_simulation(x0, A, T):\n",
    "    \n",
    "    # helper to simulate the dynamics of unemployment fir T periods\n",
    "    def simulate(x0, A, T):\n",
    "        nX = x0.shape[0]\n",
    "        out = np.zeros((T, nX))\n",
    "        out[0, :] = x0\n",
    "\n",
    "        for t in range(1, T):\n",
    "            out[t, :] = A.T @ out[t-1, :]\n",
    "\n",
    "        return out\n",
    "    \n",
    "    X = simulate(x0, A, T)\n",
    "    fig, ax = plt.subplots()\n",
    "    ax.plot(X[:,0])\n",
    "    ax.plot(X[:,1])\n",
    "    ax.set_xlabel(\"Time period (t)\")\n",
    "    ax.legend([\"Employed\", \"Unemployed\"])\n",
    "    return ax\n",
    "# Plots unemployment rate over time for t = 20\n",
    "plot_simulation(x0,A, T = 20)"
   ]
  },
  {
   "cell_type": "markdown",
   "id": "c7a7569b",
   "metadata": {},
   "source": [
    "Continue the simulation for 1000 periods to find a long-run unemployment rate (when it converges)."
   ]
  },
  {
   "cell_type": "code",
   "execution_count": null,
   "id": "c908f794",
   "metadata": {
    "hide-output": false
   },
   "outputs": [],
   "source": [
    "# your code here\n",
    "# Plots unemployment rate over time for t = 1000\n",
    "plot_simulation(x0,A, T = 1000)"
   ]
  },
  {
   "cell_type": "markdown",
   "id": "acaa8c18",
   "metadata": {},
   "source": [
    "## Question 2\n",
    "\n",
    "Wikipedia and other credible statistics sources tell us that the mean and\n",
    "variance of the Uniform(0, 1) distribution are (1/2, 1/12) respectively.\n",
    "\n",
    "How could we check whether the Numpy random numbers approximate these\n",
    "values? (*hint*: some functions in [Introduction to Numpy](https://datascience.quantecon.org/../scientific/numpy_arrays.html) and [Randomness](https://datascience.quantecon.org/../scientific/randomness.html) might be useful)\n",
    "\n",
    "Please only use the functions in the Numpy package (i.e., don't use `scipy.stats`) to answer this question."
   ]
  },
  {
   "cell_type": "code",
   "execution_count": null,
   "id": "83a52142",
   "metadata": {
    "hide-output": false
   },
   "outputs": [],
   "source": [
    "# your code here\n",
    "\n",
    "# approximates mean and variance of Uniform(1，2） using numpy.random.rand\n",
    "def approximates_uniform(n_draws):\n",
    "    # sets seed\n",
    "    np.random.seed(20230303)\n",
    "    X = np.random.rand(n_draws)\n",
    "    mean = np.mean(X)\n",
    "    variance = np.var(X)\n",
    "    return mean, variance\n",
    "\n",
    "# simulates the approximation increasing size of the array\n",
    "steps = [10, 100, 1_000, 10_000]\n",
    "for step in steps:\n",
    "    mean, variance = approximates_uniform(step)\n",
    "    print(f\"\"\"\n",
    "    The size {step} of array of random numbers from [0 , 1) yields has the following mean and variance:\n",
    "    \n",
    "    Mean: {round(mean, 4)}, Variance: {round(variance,4)} in 4 decimal places\"\n",
    "        \"\"\")"
   ]
  },
  {
   "cell_type": "markdown",
   "id": "de4ad883-106f-40a5-95c1-6024499f2a69",
   "metadata": {},
   "source": [
    "By above results, we can see as number of iterations/draws for the size of the array generated from `numpy.random.rand` increases, their mean and variance approximates to $\\frac{1}{2} = 0.05$ and $\\frac{1}{12} \\approx 0.0833$ respectively. Hence, verified that mean and variance of the Uniform(0,1) distribution are (1/2, 1/12) respectively, since the `numpy.random.rand` function creates array of user given shape (in this case `n_draws`) and populate it with random samples from the range of $[0, 1)$"
   ]
  },
  {
   "cell_type": "markdown",
   "id": "80ddede1-9424-4c84-8107-4ac3ec2f6fa9",
   "metadata": {},
   "source": [
    "我不知道要不要用markdown解释，我只是觉得只用print statement不够强力。 如果你觉得不需要也可以直接删了^这个"
   ]
  },
  {
   "cell_type": "markdown",
   "id": "cec29243",
   "metadata": {},
   "source": [
    "## Question 3\n",
    "\n",
    "Assume you have been given the opportunity to choose between one of three financial assets.\n",
    "\n",
    "You will be given the asset for free, allowed to hold it indefinitely, and will keep all payoffs.\n",
    "\n",
    "Also assume the assets’ payoffs are distributed as follows (the notations are the same as in “Continuous Distributions” subsection of [Randomness](https://datascience.quantecon.org/../scientific/randomness.html)):\n",
    "\n",
    "1. Normal with $ \\mu = 10, \\sigma = 5 $  \n",
    "1. Gamma with $ k = 5.3, \\theta = 2 $  \n",
    "1. Gamma with $ k = 5, \\theta = 2 $  \n",
    "\n",
    "\n",
    "Use `scipy.stats` to answer the following questions:\n",
    "\n",
    "- Which asset has the highest average returns?  \n",
    "- Which asset has the highest median returns?  \n",
    "- Which asset has the lowest coefficient of variation, i.e., standard deviation divided by mean?  \n",
    "- Which asset would you choose? Why? (There is not a single right answer here. Just be creative and express your preferences.)  \n",
    "\n",
    "\n",
    "You can find the official documentation of `scipy.stats` [here](https://docs.scipy.org/doc/scipy/reference/stats.html)"
   ]
  },
  {
   "cell_type": "code",
   "execution_count": 20,
   "id": "e7193f57",
   "metadata": {
    "hide-output": false
   },
   "outputs": [
    {
     "data": {
      "image/png": "[encoded data removed]",
      "text/plain": [
       "<Figure size 640x480 with 1 Axes>"
      ]
     },
     "metadata": {},
     "output_type": "display_data"
    }
   ],
   "source": [
    "# # your code here\n",
    "def plot_distribution(p1, p2, option, x, ax=None):\n",
    "    if ax is None:\n",
    "        _, ax = plt.subplots()\n",
    "    \n",
    "    \n",
    "    if option == \"Normal\":\n",
    "        mu = (\"mu\", p1)\n",
    "        sigma = (\"sigma\", p2)\n",
    "        \n",
    "        params = (mu, sigma)\n",
    "        pdf_x = st.norm(mu[1], sigma[1]).pdf(x)\n",
    "        \n",
    "    elif option == \"Gamma\":\n",
    "        k = (\"k\", p1)\n",
    "        theta = (\"theta\", p2)\n",
    "        \n",
    "        params = (k, theta)\n",
    "        \n",
    "        #x = np.linspace(0.1, 20, 130)\n",
    "        pdf_x = st.gamma(k[1], scale=theta[1]).pdf(x)\n",
    "    else:\n",
    "        print(\"Invalid option, try again\") \n",
    "    ax.plot(x, pdf_x, label=f\"{params[0][0]} = {params[0][1]}, {params[1][0]} = {params[1][1]}\")\n",
    "    \n",
    "    return ax\n",
    "    \n",
    "# plot it out on common fig\n",
    "fig, ax = plt.subplots()\n",
    "x = np.linspace(-50, 50, 1000)\n",
    "plot_distribution(5, 10, \"Normal\", x, ax)\n",
    "plot_distribution(5.3, 2, \"Gamma\", x, ax)\n",
    "plot_distribution(5, 2, \"Gamma\", x, ax)\n",
    "ax.legend();"
   ]
  },
  {
   "cell_type": "code",
   "execution_count": 27,
   "id": "ac10e052-951a-4c08-9380-a33a754130fc",
   "metadata": {},
   "outputs": [
    {
     "name": "stdout",
     "output_type": "stream",
     "text": [
      "\n",
      "The medians are the following:\n",
      "The asset that follows distribution Normal(5,10) has median returns of 0.00174\n",
      "The asset that follows distribution Gamma(5.3, 2) has median returns of 0.00158\n",
      "The asset that follows distribution Gamma(5, 2) has median returns of 0.00158\n",
      "\n",
      "The coefficients of variation are the following:\n",
      "The asset that follows distribution Normal(5,10) has coefficient of variation of 1.35048\n",
      "The asset that follows distribution Gamma(5.3, 2) has coefficient of variation of 1.51889\n",
      "The asset that follows distribution Gamma(5, 2) has coefficient of variation of 1.51889\n"
     ]
    }
   ],
   "source": [
    "# show the medians of each of the distribution (ignoring the negative payouts?)\n",
    "n = st.norm(5,10).pdf(x)\n",
    "g1 = st.gamma(5.3, scale=2).pdf(x)\n",
    "g2 = st.gamma(5.3, scale=2).pdf(x)\n",
    "\n",
    "medians = {\"Normal(5,10)\": str(round(np.median(n[n > 0]), 5)),\n",
    "           \"Gamma(5.3, 2)\": str(round(np.median(g1[g2 > 0]), 5)),\n",
    "           \"Gamma(5, 2)\": str(round(np.median(g2[g2 > 0]),5))\n",
    "          }\n",
    "\n",
    "print(\"\\nThe medians are the following:\")\n",
    "for dist, median in medians.items():\n",
    "    print(f\"The asset that follows distribution {dist} has median returns of {median}\")\n",
    "    \n",
    "# shows the coefficient of variation\n",
    "coeffs = {\"Normal(5,10)\": str(round( (np.std(n[n > 0]) / np.mean(n[n>0])), 5)),\n",
    "           \"Gamma(5.3, 2)\": str(round( (np.std(g1[g2 > 0]) / np.mean(g1[g1>0])), 5)),\n",
    "           \"Gamma(5, 2)\": str(round( (np.std(g2[g2 > 0]) / np.mean(g2[g2>0])),5))\n",
    "          }\n",
    "\n",
    "print(\"\\nThe coefficients of variation are the following:\")\n",
    "for dist, coeff in coeffs.items():\n",
    "    \n",
    "    print(f\"The asset that follows distribution {dist} has coefficient of variation of {coeff}\")"
   ]
  },
  {
   "cell_type": "markdown",
   "id": "c95a3f6d-0a7a-4cfb-92b4-b95c6792aafd",
   "metadata": {},
   "source": [
    "Answers: \n",
    "- Which asset has the highest average returns?\n",
    "\n",
    "    Based the on above graph, we can tell the normal distribution has **lower** average returns than any of the gammas, and in the gamma ones, we could see that the $\\Gamma(5.3, 2)$ has slightly **higher** average than the $\\Gamma(5,2)$, and this is easy to prove, since its expectation value is $E[X] = K \\theta$. Hence,  the asset that follows the distribution of Gamma with $ k = 5.3, \\theta = 2 $  has highest average returns.\n",
    "\n",
    "- Which asset has the highest median returns?\n",
    "\n",
    "    Based on the calculations above, the normal distribution has **higher** median returns (excluding those negative payouts) but only with a small difference, whereas the ones that follow gamma distribution has same median returns (excluding those negative payouts) and both lower than the normal distribution.\n",
    "    \n",
    "- Which asset has the lowest coefficient of variation, i.e., standard deviation divided by mean?\n",
    "    \n",
    "    Based on the calculations above, the normal distribution has **lowest** coefficient of variation (excluding those negative payouts), yet still with a tiny difference, whereas the ones that follow gamma distribution has same coefficient of variation under 5 decimal places\n",
    "    \n",
    "- Which asset would you choose? Why? (There is not a single right answer here. Just be creative and express your preferences.)\n",
    "\n",
    "    + Normal - low mean, high median, low cv (coefficient of variation)\n",
    "    + Gamma 5.3 high mean, low median (very small difference to normal), high cv\n",
    "    + Gamma 5 high mean, low median (very small difference to normal, high cv\n",
    "    \n",
    "    Lower cv means better risk/reward to asset (found on internet), and given median of the three has very small difference, so choose the normal one is fine? "
   ]
  },
  {
   "cell_type": "markdown",
   "id": "c02fae18-fd5e-4791-aa5f-c739121d231b",
   "metadata": {},
   "source": [
    "你先看看这个[pizza post](https://piazza.com/class/lcpfhxvstmygz/post/127)。 我实在是编不出来了，你再看看要不要把图删了吧，感觉一点用也没有。。 然后有一点点小混乱，我打算周三问一下老师看"
   ]
  },
  {
   "cell_type": "markdown",
   "id": "db4f3ac9",
   "metadata": {},
   "source": [
    "## Question 4\n",
    "\n",
    "Take the example with preferences over bananas (B) and apples (A) in [Optimization](https://datascience.quantecon.org/../scientific/optimization.html)\n",
    "\n",
    "The consumer solves the following problem:\n",
    "\n",
    "$$\n",
    "\\begin{aligned}\n",
    "\\max_{A, B} & B^{\\alpha}A^{1-\\alpha}\\\\\n",
    "\\text{s.t. } & p_A A + B \\leq W\n",
    "\\end{aligned}\n",
    "$$\n",
    "\n",
    "Fix $ p_A = 2 $ and $ \\alpha = 0.3 $.  Make a grid of `W` between `1` and `3` and then plot the optimal ratio of B to A."
   ]
  },
  {
   "cell_type": "code",
   "execution_count": 37,
   "id": "e604e78b",
   "metadata": {
    "hide-output": false
   },
   "outputs": [],
   "source": [
    "p_A = 3\n",
    "alpha = 0.4\n",
    "\n",
    "# Your code here\n"
   ]
  },
  {
   "cell_type": "markdown",
   "id": "2bacab8b",
   "metadata": {},
   "source": [
    "Do the same graph for $ \\alpha = 0.5 $ **and compare/interpret.**"
   ]
  },
  {
   "cell_type": "code",
   "execution_count": null,
   "id": "42fb0116",
   "metadata": {
    "hide-output": false
   },
   "outputs": [],
   "source": [
    "# Your code here"
   ]
  },
  {
   "cell_type": "code",
   "execution_count": null,
   "id": "d4e42ab6-6647-4328-8df8-8e26a806e51d",
   "metadata": {},
   "outputs": [],
   "source": []
  },
  {
   "cell_type": "markdown",
   "id": "7558ed51",
   "metadata": {},
   "source": [
    "## Question 5\n",
    "\n",
    "Suppose that you own a mobile app that has a \"freemium\" pricing policy, and you want to model how the behavior of your users depends on the monthly subscription price that you charge.\n",
    "\n",
    "The population of your potential app users are distributed between three states; Non-users, Free users, and Premium users. **All users begin as Non-users**; a Non-user will never go directly from being a Non-user to being a Premium user, without first trying the app out as a Free user for at least one month. In each month, 5\\% of the Non-users will decide to try the app in the next month.\n",
    "\n",
    "In every time period, 0.5\\% of the Free users tend to leave the app and become Non-users again. After those users switch, some of the remaining users will choose to subscribe to the app in a given month (and transfer from the Free user category to the Premium user category). The probability that a Free user who did not already leave the app chooses to subscribe for the next month depends on the monthly price that you charge. If the monthly price is represented by a positive number $p$, then the probability of subscribing is given by $$\\mathbb{P}\\left[ \\text{Free user chooses to subscribe to Premium}\\right] = \\frac{1-\\mathbb{P[\\text{Free user chooses to leave the app}]}}{1+p}.$$\n",
    "\n",
    "Finally, every month 5\\% of Premium users will cancel their subscriptions, and 1\\%  of Premium users will delete the app and become Non-users again.\n",
    "\n",
    "\n",
    "\n",
    "Define a function `transition_matrix` over prices $p$, whose output is a row-stochastic version of the matrix that describes the transition probabilities in this economy.\n",
    "\n",
    "Write another function called `iterate` that takes as arguments $p$ and $t$, where $t$ is the number of months and takes a default value of 6 months, and outputs the distribution of users into categories after $t$ months."
   ]
  },
  {
   "cell_type": "markdown",
   "id": "a0b32fb6-0a34-443c-810f-7ca7a4b4e92d",
   "metadata": {},
   "source": [
    "你看一下对不对然后删了就行？\n",
    "\n",
    "![](https://raw.githubusercontent.com/tonyliang19/ECON323_2023_Spring/local/problem_sets/extra/econ_mc.jpg?raw=True)"
   ]
  },
  {
   "cell_type": "code",
   "execution_count": 73,
   "id": "fced19e8",
   "metadata": {},
   "outputs": [],
   "source": [
    "# your code here\n",
    "def transition_matrix(p):\n",
    "    p_fp = 0.95 - (0.05  / (1+p))\n",
    "    matrix = np.array([[0.95, 0.05, 0], \n",
    "                       [0.05, 0.95 - p_fp, p_fp], \n",
    "                       [0.01, 0.05, 0.94]])\n",
    "    return matrix\n",
    "                      "
   ]
  },
  {
   "cell_type": "markdown",
   "id": "68523e4c",
   "metadata": {},
   "source": [
    "Create a figure with three subplots arranged horizontally. On each subplot, show the evolution of your distribution of users over the first year of your new app. Each figure should have time $t$ as the x-axis, and the y-axis should track the proportions of users in each category, for a specific price. On these axes, show how the number of users in each category changes over time with a monthly price equal to $p=0.10$, $p=2$, and $p=20$, respectively. Make sure to clearly label your lines, axes, and subplots."
   ]
  },
  {
   "cell_type": "code",
   "execution_count": 81,
   "id": "aa4a95f4",
   "metadata": {},
   "outputs": [
    {
     "data": {
      "image/png": "[encoded data removed]",
      "text/plain": [
       "<Figure size 640x480 with 3 Axes>"
      ]
     },
     "metadata": {},
     "output_type": "display_data"
    }
   ],
   "source": [
    "# your code here\n",
    "time = np.linspace(1, 12, 12)\n",
    "fig, ax = plt.subplots(1, 3)\n",
    "prices = [0.10, 2, 20]\n",
    "for i, price in enumerate(prices):\n",
    "    ax[i].hist(transition_matrix(p=price))"
   ]
  },
  {
   "cell_type": "markdown",
   "id": "5484a8ce-1926-4b29-b96e-c93fe72ebff8",
   "metadata": {},
   "source": [
    "很明显这是不太对的^^^^^, 回头改 9：40了还没吃饭, 你可以先看看其他的大概？？"
   ]
  },
  {
   "cell_type": "markdown",
   "id": "09c20582",
   "metadata": {},
   "source": [
    "Which of the above prices yields the most premium users after one year? Is this surprising? Why or why not?"
   ]
  },
  {
   "cell_type": "markdown",
   "id": "16e59e73",
   "metadata": {},
   "source": []
  }
 ],
 "metadata": {
  "date": 1627429658.2189074,
  "filename": "problem_set_4.md",
  "kernelspec": {
   "display_name": "Python 3 (ipykernel)",
   "language": "python",
   "name": "python3"
  },
  "language_info": {
   "codemirror_mode": {
    "name": "ipython",
    "version": 3
   },
   "file_extension": ".py",
   "mimetype": "text/x-python",
   "name": "python",
   "nbconvert_exporter": "python",
   "pygments_lexer": "ipython3",
   "version": "3.10.8"
  },
  "title": "Problem Set 4"
 },
 "nbformat": 4,
 "nbformat_minor": 5
}
