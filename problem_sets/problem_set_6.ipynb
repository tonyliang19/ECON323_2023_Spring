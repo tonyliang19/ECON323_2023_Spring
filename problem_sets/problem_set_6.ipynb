{
 "cells": [
  {
   "cell_type": "markdown",
   "id": "c25e1dc7",
   "metadata": {},
   "source": [
    "# Problem Set 6\n",
    "\n",
    "See [Visualization Rules](https://datascience.quantecon.org/../applications/visualization_rules.html) and [Regression](https://datascience.quantecon.org/../applications/regression.html)"
   ]
  },
  {
   "cell_type": "code",
   "execution_count": null,
   "id": "ffb6c82c",
   "metadata": {
    "hide-output": false
   },
   "outputs": [],
   "source": [
    "! pip install patsy\n",
    "import matplotlib.pyplot as plt\n",
    "import numpy as np\n",
    "import pandas as pd\n",
    "import patsy\n",
    "import sklearn\n",
    "import sklearn.model_selection\n",
    "import sklearn.ensemble\n",
    "\n",
    "%matplotlib inline"
   ]
  },
  {
   "cell_type": "markdown",
   "id": "e2f2e63e",
   "metadata": {},
   "source": [
    "This problem set uses data on insuree characteristics and medical costs. This is a public domain dataset downloaded from [kaggle](https://www.kaggle.com/mirichoi0218/insurance). \n",
    "\n",
    "The variables in the data are:\n",
    "- age: age of primary beneficiary\n",
    "- sex: insurance contractor gender, female, male\n",
    "- bmi: Body mass index of primary beneficiary\n",
    "- children: Number of children covered by health insurance / Number of dependents\n",
    "- smoker: whether primary beneficiary smokes\n",
    "- region: the beneficiary's residential area in the US, northeast, southeast, southwest, northwest.\n",
    "- charges: medical costs billed by health insurance\n",
    "\n",
    "You will build a  model to predict charges given the other variables in the data. \n"
   ]
  },
  {
   "cell_type": "code",
   "execution_count": null,
   "id": "98f74d9a",
   "metadata": {
    "hide-output": false
   },
   "outputs": [],
   "source": [
    "insure = pd.read_csv(\"https://raw.githubusercontent.com/doctor-phil/ECON323_2023_Spring/main/problem_sets/insurance.csv\")\n",
    "insure.head()"
   ]
  },
  {
   "cell_type": "markdown",
   "id": "6700be65",
   "metadata": {},
   "source": [
    "## Questions 1-3\n",
    "\n",
    "These question are intentionally open-ended. For each one, carefully choose the type of visualization you’ll create. Put some effort into choosing colors, labels, and other formatting."
   ]
  },
  {
   "cell_type": "markdown",
   "id": "f15ca5e5",
   "metadata": {},
   "source": [
    "### Question 1\n",
    "\n",
    "Create a visualization showing the relationship between smoking and medical costs. "
   ]
  },
  {
   "cell_type": "code",
   "execution_count": null,
   "id": "9f54d4f2",
   "metadata": {},
   "outputs": [],
   "source": [
    "# your code here"
   ]
  },
  {
   "cell_type": "markdown",
   "id": "a18203bf",
   "metadata": {},
   "source": [
    "### Question 2\n",
    "\n",
    "Create a visualization showing the relationship between BMI and medical costs. "
   ]
  },
  {
   "cell_type": "code",
   "execution_count": null,
   "id": "a18952ae",
   "metadata": {},
   "outputs": [],
   "source": [
    "# your code here"
   ]
  },
  {
   "cell_type": "markdown",
   "id": "ccd2f15d",
   "metadata": {},
   "source": [
    "### Question 3\n",
    "\n",
    "Does the relationship between medical costs and BMI vary with gender? Create a visualization to answer this question."
   ]
  },
  {
   "cell_type": "code",
   "execution_count": null,
   "id": "3538be03",
   "metadata": {},
   "outputs": [],
   "source": [
    "# your code here"
   ]
  },
  {
   "cell_type": "markdown",
   "id": "6d5a8513",
   "metadata": {},
   "source": [
    "## Questions 4-7\n",
    "\n",
    "In these questions you will build and evaluate a model to predict medical costs. \n",
    "\n",
    "First, we divide the data into training and testing sets. "
   ]
  },
  {
   "cell_type": "code",
   "execution_count": null,
   "id": "3c675287",
   "metadata": {},
   "outputs": [],
   "source": [
    "train = insure.sample(frac = 0.8,random_state = 42) \n",
    "test = insure.drop(train.index)"
   ]
  },
  {
   "cell_type": "markdown",
   "id": "22715a75",
   "metadata": {},
   "source": [
    "Now we create a numeric matrix of features from our dataframe. The formula interface from the patsy package is one convenient method for doing this."
   ]
  },
  {
   "cell_type": "code",
   "execution_count": null,
   "id": "5bb98f1f",
   "metadata": {},
   "outputs": [],
   "source": [
    "y, X = patsy.dmatrices(\"charges ~ C(sex)*(age + children + C(smoker) + C(region)) + age:C(smoker)\", insure, return_type='matrix')\n",
    "y = y.flatten()\n",
    "y_train = y[train.index]\n",
    "X_train = X[train.index]\n",
    "y_test = y[test.index]\n",
    "X_test = X[test.index]"
   ]
  },
  {
   "cell_type": "markdown",
   "id": "87c8ebf4",
   "metadata": {},
   "source": [
    "### Question 4\n",
    "\n",
    "Fit a linear regression model to the training data. Print the MSE on the training and testing data."
   ]
  },
  {
   "cell_type": "code",
   "execution_count": null,
   "id": "8727302d",
   "metadata": {},
   "outputs": [],
   "source": [
    "# your code here"
   ]
  },
  {
   "cell_type": "markdown",
   "id": "5af03b86",
   "metadata": {},
   "source": [
    "### Question 5\n",
    "\n",
    "Fit a LASSO model to the training data. Follow along with the notes on regression to visualize the lasso path. `alpha`. Print the MSE on the training and testing data."
   ]
  },
  {
   "cell_type": "code",
   "execution_count": null,
   "id": "828dbd1b",
   "metadata": {},
   "outputs": [],
   "source": [
    "# your code here"
   ]
  },
  {
   "cell_type": "markdown",
   "id": "4eeb1ff7",
   "metadata": {},
   "source": [
    "### Question 6\n",
    "\n",
    "Estimate a regression tree using the training, data with maximum depth of 3 layers. Set the `random_state` keyword argument to `123`. Report the mean-square error on the training and testing samples as a formatted string. \n",
    "\n",
    "Then estimate a regression tree with a maximum depth of 10, and the same value of `random_state` and report its MSE on the test data in the same way.\n",
    "\n",
    "Which model had a higher MSE on the testing data? Explain why you think this might be."
   ]
  },
  {
   "cell_type": "code",
   "execution_count": null,
   "id": "b2d6a082",
   "metadata": {},
   "outputs": [],
   "source": []
  },
  {
   "cell_type": "markdown",
   "id": "f58f875f",
   "metadata": {},
   "source": []
  },
  {
   "cell_type": "markdown",
   "id": "19cb9852",
   "metadata": {},
   "source": [
    "### Question 7\n",
    "\n",
    "Perform k-fold cross-validation on the $\\alpha$ parameter in your lasso regression, with $k$ equal to `5`. What is the optimal value of $\\alpha$ that it chooses? Compare that value of $\\alpha$ to the visualization from question 5. How many of your variables have parameters at this level of $\\alpha$?"
   ]
  },
  {
   "cell_type": "code",
   "execution_count": null,
   "id": "interested-trademark",
   "metadata": {},
   "outputs": [],
   "source": []
  },
  {
   "cell_type": "markdown",
   "id": "blocked-accuracy",
   "metadata": {},
   "source": []
  }
 ],
 "metadata": {
  "date": 1633586292.607575,
  "filename": "problem_set_6.md",
  "interpreter": {
   "hash": "767d51c1340bd893661ea55ea3124f6de3c7a262a8b4abca0554b478b1e2ff90"
  },
  "kernelspec": {
   "display_name": "Python 3",
   "language": "python",
   "name": "python3"
  },
  "language_info": {
   "codemirror_mode": {
    "name": "ipython",
    "version": 3
   },
   "file_extension": ".py",
   "mimetype": "text/x-python",
   "name": "python",
   "nbconvert_exporter": "python",
   "pygments_lexer": "ipython3",
   "version": "3.9.2"
  },
  "title": "Problem Set 6",
  "widgets": {
   "application/vnd.jupyter.widget-state+json": {
    "state": {},
    "version_major": 2,
    "version_minor": 0
   }
  }
 },
 "nbformat": 4,
 "nbformat_minor": 5
}
