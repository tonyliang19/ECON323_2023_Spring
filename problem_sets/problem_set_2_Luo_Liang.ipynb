{
 "cells": [
  {
   "cell_type": "markdown",
   "id": "d097c3b3",
   "metadata": {
    "tags": []
   },
   "source": [
    "# Problem Set 2\n",
    "\n",
    "Related lectures: [Control Flow](https://datascience.quantecon.org/../python_fundamentals/control_flow.html), [Functions](https://datascience.quantecon.org/../python_fundamentals/functions.html), and [Numpy](https://datascience.quantecon.org/../scientific/numpy_arrays.html)"
   ]
  },
  {
   "cell_type": "markdown",
   "id": "bb063563-14ec-43a5-b832-38bd7e5204e2",
   "metadata": {},
   "source": [
    "> Group members: \n",
    ">\n",
    "> Wanxin Luo (33432808) Section 003\n",
    "> \n",
    "> Tony Liang (39356993) Section 004\n",
    "\n",
    "We first tried problem by ourselves, and compared our solutions after finishing the assignment to check anywhere that we might have mismatched for certain questions (i.e. not getting same output), and solutions were combined to one `.ipynb`file."
   ]
  },
  {
   "cell_type": "markdown",
   "id": "9f424d87",
   "metadata": {},
   "source": [
    "## Question 1\n",
    "For the tuple `foo` below, use a combination of `zip`, `range`, and `len` to mimic `enumerate(foo)`.\n",
    "\n",
    "Verify that your proposed solution is correct by converting each to a list and checking equality with `==`\n",
    "\n",
    "HINT: You can see what the answer should look like by starting with `list(enumerate(foo))`."
   ]
  },
  {
   "cell_type": "code",
   "execution_count": 1,
   "id": "4fb40791",
   "metadata": {},
   "outputs": [
    {
     "name": "stdout",
     "output_type": "stream",
     "text": [
      "This is list(enumerate(foo)): [(0, 'good'), (1, 'luck!')]\n",
      "This is my solution: [(0, 'good'), (1, 'luck!')]\n",
      "Evaluating comparison: True\n"
     ]
    }
   ],
   "source": [
    "foo = (\"good\", \"luck!\")\n",
    "# Your code goes here\n",
    "expected = list(enumerate(foo))\n",
    "actual = list(zip(range(len(foo)), foo))\n",
    "\n",
    "# Output the solution and comparet them\n",
    "print(f\"This is list(enumerate(foo)): {expected}\")\n",
    "print(f\"This is my solution: {actual}\")\n",
    "print(f\"Evaluating comparison: {expected == actual}\")"
   ]
  },
  {
   "cell_type": "markdown",
   "id": "ad897ca8",
   "metadata": {
    "tags": []
   },
   "source": [
    "## Question 2\n",
    "\n",
    "Write a for loop that uses the lists of cities and states to print a message saying `“{city} is in {state}”`, where `{city}` and `{state}` are replaced by different values on each iteration.  You are *not* allowed to use `zip`."
   ]
  },
  {
   "cell_type": "code",
   "execution_count": 2,
   "id": "a71bf1ed",
   "metadata": {
    "hide-output": false
   },
   "outputs": [
    {
     "name": "stdout",
     "output_type": "stream",
     "text": [
      "Phoenix is in Arizona\n",
      "Austin is in Texas\n",
      "San Diego is in California\n",
      "New York is in New York\n"
     ]
    }
   ],
   "source": [
    "cities = [\"Phoenix\", \"Austin\", \"San Diego\", \"New York\"]\n",
    "states = [\"Arizona\", \"Texas\", \"California\", \"New York\"]\n",
    "\n",
    "# Your code here\n",
    "for i, city in enumerate(cities):\n",
    "    state = states[i]\n",
    "    print(f\"{city} is in {state}\")"
   ]
  },
  {
   "cell_type": "markdown",
   "id": "e0e78079",
   "metadata": {},
   "source": [
    "Now, do the same thing with a `for` loop using `zip`."
   ]
  },
  {
   "cell_type": "code",
   "execution_count": 3,
   "id": "e91962cf",
   "metadata": {
    "hide-output": false
   },
   "outputs": [
    {
     "name": "stdout",
     "output_type": "stream",
     "text": [
      "Phoenix is in Arizona\n",
      "Austin is in Texas\n",
      "San Diego is in California\n",
      "New York is in New York\n"
     ]
    }
   ],
   "source": [
    "cities = [\"Phoenix\", \"Austin\", \"San Diego\", \"New York\"]\n",
    "states = [\"Arizona\", \"Texas\", \"California\", \"New York\"]\n",
    "\n",
    "# Your code here\n",
    "for c, s in zip(cities, states):\n",
    "    print(f\"{c} is in {s}\")\n",
    "            "
   ]
  },
  {
   "cell_type": "markdown",
   "id": "8e867e8e",
   "metadata": {},
   "source": [
    "Write a function that takes in a tuple as `(city, state)` and returns a string  `“{city} is in {state}”` with the values substituted."
   ]
  },
  {
   "cell_type": "code",
   "execution_count": 4,
   "id": "7b894d0d",
   "metadata": {
    "hide-output": false
   },
   "outputs": [
    {
     "data": {
      "text/plain": [
       "'Phoenix is in Arizona'"
      ]
     },
     "execution_count": 4,
     "metadata": {},
     "output_type": "execute_result"
    }
   ],
   "source": [
    "# Your function here\n",
    "def city_in_state(tup: tuple):\n",
    "    \"\"\"\n",
    "    Takes a tuple object (city, state)\n",
    "    Returns “{city} is in {state}”\n",
    "    \"\"\"\n",
    "    return(f\"{tup[0]} is in {tup[1]}\")\n",
    "    \n",
    "city_in_state(tup = (\"Phoenix\", \"Arizona\"))"
   ]
  },
  {
   "cell_type": "markdown",
   "id": "dbad7a1a",
   "metadata": {},
   "source": [
    "## Question 3\n",
    "\n",
    "This exercise explores the concept of higher order functions, or functions\n",
    "that can be an input or output of another function.\n",
    "\n",
    "Below is code that implements a version of the generalized Cobb-Douglas production function which takes the form $ F(K, L) = z K^{\\alpha_1} L^{\\alpha_2} $.\n",
    "\n",
    "It takes as an argument `alpha_1`, `alpha_2`, and `z` and then\n",
    "*returns a function* that implements that parameterization of the\n",
    "Cobb-Douglas production function."
   ]
  },
  {
   "cell_type": "code",
   "execution_count": 5,
   "id": "963e83d4",
   "metadata": {
    "hide-output": false
   },
   "outputs": [],
   "source": [
    "def cobb_douglas_factory(alpha_1, alpha_2, z=1.0):\n",
    "    \"\"\"\n",
    "    Return a function F(K, L) that implements the generalized Cobb-Douglas\n",
    "    production function with parameters alpha_1, alpha_2, and z\n",
    "\n",
    "    The returned function takes the form F(K, L) = z K^{\\alpha_1} L^{\\alpha_2}\n",
    "    \"\"\"\n",
    "    # I'm defining a function inside a function\n",
    "    def return_func(K, L):\n",
    "        return z * K**alpha_1 * L**alpha_2\n",
    "\n",
    "    # Notice I'm returning a function! :mind_blown:\n",
    "    return return_func"
   ]
  },
  {
   "cell_type": "markdown",
   "id": "9a8b5fc9",
   "metadata": {},
   "source": [
    "We can use this function in two steps:\n",
    "\n",
    "1. Call it with `alpha_1`, `alpha_2`, and `z` and get a function in return.  \n",
    "1. Call the returned function with values of `K` and `L`.  \n",
    "\n",
    "\n",
    "Here’s how we would repeat the first Cobb-Douglas example from above:"
   ]
  },
  {
   "cell_type": "code",
   "execution_count": 6,
   "id": "984e50fa",
   "metadata": {
    "hide-output": false
   },
   "outputs": [
    {
     "data": {
      "text/plain": [
       "0.6285066872609142"
      ]
     },
     "execution_count": 6,
     "metadata": {},
     "output_type": "execute_result"
    }
   ],
   "source": [
    "# step 1\n",
    "F2 = cobb_douglas_factory(0.33, 1-0.33)\n",
    "\n",
    "# step 2\n",
    "F2(1.0, 0.5)"
   ]
  },
  {
   "cell_type": "markdown",
   "id": "dd985d6e",
   "metadata": {},
   "source": [
    "Now, it is your turn…\n",
    "\n",
    "Re-write the `returns_to_scale` function above as we had in [Functions](https://datascience.quantecon.org/../python_fundamentals/functions.html) to accept an additional argument\n",
    "`F` that represents a production function. The function should take in `K` and `L`\n",
    "and return output.\n",
    "\n",
    "We’ve written some code below to get you started."
   ]
  },
  {
   "cell_type": "code",
   "execution_count": 7,
   "id": "6e28f2a6-69af-4dcc-883b-ff30bfaf8a9d",
   "metadata": {},
   "outputs": [],
   "source": [
    "# This is a function from lecture slides\n",
    "def cobb_douglas(K, L):\n",
    "    \"\"\"\n",
    "    Computes F(K,L), restricting z = 1, alpha = 0.33\n",
    "    \"\"\"\n",
    "    z = 1.0\n",
    "    alpha = 0.33\n",
    "    return z * K**alpha * L**(1 - alpha)"
   ]
  },
  {
   "cell_type": "code",
   "execution_count": 8,
   "id": "4b897e24",
   "metadata": {
    "hide-output": false
   },
   "outputs": [],
   "source": [
    "# Own defined `returns_to_scale` function\n",
    "def returns_to_scale2(F, K, L, gamma):\n",
    "    \"\"\"\n",
    "    Takes in generic production function that consumes K, L, and extra param gamma\n",
    "    calculates the return to scale of the production function\n",
    "    \"\"\"\n",
    "    # Calculates the returns\n",
    "    y1 = F(K, L)\n",
    "    y2 = F(gamma * K, gamma * L)\n",
    "    ratio = y2 / y1\n",
    "    return ratio / gamma"
   ]
  },
  {
   "cell_type": "markdown",
   "id": "153b6981",
   "metadata": {},
   "source": [
    "Test out your new function using the original `F2` that we defined above and\n",
    "using the `cobb_douglas` function defined earlier in the lecture. You can use\n",
    "similar sets of values to what we used in class for `K` and `L`.\n",
    "\n",
    "Do you get the same answer?"
   ]
  },
  {
   "cell_type": "code",
   "execution_count": 9,
   "id": "94305bfb-902e-41ff-b1df-ee2e5f5c159c",
   "metadata": {},
   "outputs": [
    {
     "name": "stdout",
     "output_type": "stream",
     "text": [
      "This is F2: 1.0 \n",
      "This is cobb_doublas: 1.0\n",
      "The two values are equal: True\n"
     ]
    }
   ],
   "source": [
    "# test returns_to_scale2 with F2 and cobb_douglas as input\n",
    "\n",
    "# Note alpha1 and alpha2 here 0.33 and 0.77 respectively\n",
    "gamma = 2.0\n",
    "test_f2 = returns_to_scale2(F2, K=1.0, L=0.5, gamma=gamma)\n",
    "test_cd = returns_to_scale2(cobb_douglas, K=1.0, L=0.5, gamma=gamma)\n",
    "# compare the two results\n",
    "print(f\"This is F2: {test_f2} \\nThis is cobb_doublas: {test_cd}\")\n",
    "print(f\"The two values are equal: {test_f2 == test_cd}\")"
   ]
  },
  {
   "cell_type": "markdown",
   "id": "4b819415-301f-46fb-8162-5c589410bbc1",
   "metadata": {},
   "source": [
    "The answer we get here with `return_to_scale2` is the same one as we got earlier, since we used the same production function and parameters like `K`, `L` and `gamma`."
   ]
  },
  {
   "cell_type": "markdown",
   "id": "cd010414",
   "metadata": {},
   "source": [
    "## Question 4\n",
    "\n",
    "Let’s use our `cobb_douglas_factory` and `returns_to_scale2` functions\n",
    "to study returns to scale.\n",
    "\n",
    "What are the returns to scale when you set `alpha_1 = 0.3` and `alpha_2 = 0.6`?"
   ]
  },
  {
   "cell_type": "code",
   "execution_count": 10,
   "id": "d41e1d8b",
   "metadata": {
    "hide-output": false
   },
   "outputs": [
    {
     "data": {
      "text/plain": [
       "0.9330329915368075"
      ]
     },
     "execution_count": 10,
     "metadata": {},
     "output_type": "execute_result"
    }
   ],
   "source": [
    "# test with alpha_1 = 0.3 and alpha_2 = 0.6\n",
    "F3 = cobb_douglas_factory(alpha_1=0.3, alpha_2=0.6)\n",
    "returns_to_scale2(F3,K=1, L=0.5, gamma=2)"
   ]
  },
  {
   "cell_type": "markdown",
   "id": "5964f0ea",
   "metadata": {},
   "source": [
    "What about when you use `alpha_1 = 0.4` and `alpha_2 = 0.65`?"
   ]
  },
  {
   "cell_type": "code",
   "execution_count": 11,
   "id": "e10f8658",
   "metadata": {
    "hide-output": false
   },
   "outputs": [
    {
     "data": {
      "text/plain": [
       "1.0352649238413774"
      ]
     },
     "execution_count": 11,
     "metadata": {},
     "output_type": "execute_result"
    }
   ],
   "source": [
    "# test with alpha_1 = 0.4 and alpha_2 = 0.65\n",
    "F4 = cobb_douglas_factory(alpha_1=0.4, alpha_2=0.65)\n",
    "returns_to_scale2(F4, K=1, L=0.5, gamma=gamma)"
   ]
  },
  {
   "cell_type": "markdown",
   "id": "6a83ddd3",
   "metadata": {},
   "source": [
    "What do returns to scale have to do with the quantity $ \\alpha_1 + \\alpha_2 $? When will returns to scale be greater or less than 1?"
   ]
  },
  {
   "cell_type": "markdown",
   "id": "b1e340c7-6cd7-4b20-9a05-e3bfcd75c4b9",
   "metadata": {},
   "source": [
    "Keeping all other parameters constant (i.e. `K`, `L`, `gamma`), changing $\\alpha_1$ and $\\alpha_2$ results in the following result:\n",
    "\n",
    " $$ \\text{return_to_scale}=   \\left\\{\n",
    "\\begin{array}{ll}\n",
    "      > 1 & \\alpha_1 + \\alpha_2 \\in (1, +\\infty) \\\\\n",
    "        1 & \\alpha_1 + \\alpha_2 = 1 \\\\\n",
    "      < 1 & \\alpha_1 + \\alpha_2 \\in (-\\infty, 1) \\\\\n",
    "\\end{array} \n",
    "\\right.  $$\n",
    "\n",
    "Above piecewise function explains the return to scale upon different ranges of $\\alpha_1 + \\alpha_2$. When $\\alpha_1 + \\alpha_2 == 1$, the return to scale equals to 1, meaning constant returns to scale for give production function (this case, `cobb-douglas`). When $\\alpha_1 + \\alpha_2 > 1$, our production function has increasing returns to scale. Lastly, $\\alpha_1 + \\alpha_2 < 1$, we have decreasing returns to scale production function.\n"
   ]
  },
  {
   "cell_type": "markdown",
   "id": "778808d5",
   "metadata": {},
   "source": [
    "## Question 5\n",
    "\n",
    "Take a production function of only labor, `L`, with the following form\n",
    "\n",
    "$$\n",
    "f(L) = \\begin{cases} L^2 & \\text{ for } L \\in [0, 1)\\\\\n",
    "                    \\sqrt{L} & \\text{ for } L \\in [1, 2]\n",
    "        \\end{cases}\n",
    "$$\n",
    "\n",
    "Write a function to calculate the marginal product of labor (MPL) numerically by using a method similar to what we did in class."
   ]
  },
  {
   "cell_type": "code",
   "execution_count": 12,
   "id": "e2fc0a61-7f1a-40ac-9461-66b4aa86deae",
   "metadata": {},
   "outputs": [],
   "source": [
    "def marginal_product_labor(L, eps):\n",
    "    \"\"\"\n",
    "    Takes a production function of only labor, piecewise defined on [0,2]\n",
    "    And calculates marginal product of labor numerically\n",
    "    \"\"\"\n",
    "    if L >= 0 and L < 1:\n",
    "        mpl = ((L + eps)**2 - L**2) / eps\n",
    "        \n",
    "    if L >= 1 and L <= 2:\n",
    "        mpl = ((L + eps)**0.5 - L**0.5) / eps\n",
    "    return mpl"
   ]
  },
  {
   "cell_type": "markdown",
   "id": "ece06a31",
   "metadata": {},
   "source": [
    "Plot the MPL for $ L \\in [0,2] $  (you can choose some sort of grid over those numbers with `np.linspace`)."
   ]
  },
  {
   "cell_type": "code",
   "execution_count": 13,
   "id": "32ac5df5-91c7-48cc-a9cb-3f061b8f11e9",
   "metadata": {},
   "outputs": [],
   "source": [
    "# Import some libary\n",
    "import numpy as np\n",
    "import matplotlib.pyplot as plt\n",
    "%matplotlib inline"
   ]
  },
  {
   "cell_type": "code",
   "execution_count": 14,
   "id": "34ec7bb5-e7a6-4431-9983-8832ffb5b6cc",
   "metadata": {},
   "outputs": [
    {
     "data": {
      "text/plain": [
       "[<matplotlib.lines.Line2D at 0x28028668fd0>]"
      ]
     },
     "execution_count": 14,
     "metadata": {},
     "output_type": "execute_result"
    },
    {
     "data": {
      "image/png": "[encoded data removed]",
      "text/plain": [
       "<Figure size 640x480 with 1 Axes>"
      ]
     },
     "metadata": {},
     "output_type": "display_data"
    }
   ],
   "source": [
    "# Note K is defined earlier as 1, so we will use this fix K\n",
    "fig, ax = plt.subplots()\n",
    "# generate grids\n",
    "Ls = np.linspace(0, 2, 1000)\n",
    "y = [marginal_product_labor(L=L, eps=1e-4) for L in Ls]\n",
    "# add title and labels\n",
    "ax.set_title(\"MPL of f(L) in [0,2] Numerical Approximation\")\n",
    "ax.set_xlabel(\"L\")\n",
    "ax.set_ylabel(\"MPL with Fixed K = 1 and epsilon = 1e-4\")\n",
    "# plot it\n",
    "ax.plot(Ls, y)"
   ]
  },
  {
   "cell_type": "markdown",
   "id": "22f3e670",
   "metadata": {},
   "source": [
    "Consider the scenario where you increase the scale of production by a factor of 10 percent more labor. Plot the returns to scale for a grid on $ L \\in [0, 1.5] $.\n",
    "*Hint:* For this, you may need to write your own version of the `returns_to_scale` function specific to this production function or carefully use the one above. Either way of implementation is fine."
   ]
  },
  {
   "cell_type": "code",
   "execution_count": 15,
   "id": "0bffdaa5",
   "metadata": {
    "hide-output": false
   },
   "outputs": [],
   "source": [
    "# your code here\n",
    "\n",
    "# slight lightly modified returns to scale\n",
    "# given production function only takes in labor\n",
    "def returns_to_scale_10per(L, gamma):\n",
    "    \n",
    "    # restricting the L in domain of [0,2]\n",
    "    # whereas it is defined differently upon different ranges\n",
    "    if L >= 0 and L < 1:\n",
    "        y1 = L**2\n",
    "        y2 = (L*gamma)**2\n",
    "    if L >= 1 and L<= 2:\n",
    "        y1 =  L**(1/2)\n",
    "        y2 = (L*gamma)**(1/2)\n",
    "    y_ratio = y2 / y1\n",
    "    return y_ratio / gamma"
   ]
  },
  {
   "cell_type": "code",
   "execution_count": 16,
   "id": "dd10c15c-374c-4061-8884-4d1ab74465f7",
   "metadata": {},
   "outputs": [
    {
     "name": "stderr",
     "output_type": "stream",
     "text": [
      "C:\\Users\\chunq\\AppData\\Local\\Temp\\ipykernel_32184\\2596317376.py:15: RuntimeWarning: invalid value encountered in double_scalars\n",
      "  y_ratio = y2 / y1\n"
     ]
    },
    {
     "data": {
      "text/plain": [
       "[<matplotlib.lines.Line2D at 0x28028f01270>]"
      ]
     },
     "execution_count": 16,
     "metadata": {},
     "output_type": "execute_result"
    },
    {
     "data": {
      "image/png": "[encoded data removed]",
      "text/plain": [
       "<Figure size 640x480 with 1 Axes>"
      ]
     },
     "metadata": {},
     "output_type": "display_data"
    }
   ],
   "source": [
    "# New prlot by increasing scale of production by factor of 10 more labor\n",
    "fig, ax = plt.subplots()\n",
    "Ls2 = np.linspace(0, 1.5, 1000)\n",
    "y2 = [returns_to_scale_10per(L=L, gamma=1.1) for L in Ls2]\n",
    "ax.set_title(\"New return to scale with K = 1\")\n",
    "ax.set_xlabel(\"L\")\n",
    "ax.set_ylabel(\"Return to scale\")\n",
    "ax.plot(Ls2, y2)"
   ]
  },
  {
   "cell_type": "markdown",
   "id": "480e83c8",
   "metadata": {},
   "source": [
    "Compare these returns to the scale of the Cobb-Douglas functions we have worked with."
   ]
  },
  {
   "cell_type": "markdown",
   "id": "48fee9d9-eb0d-4df2-b99e-ca9d1a59f832",
   "metadata": {},
   "source": [
    "The returns to scale here is similar to the one of `cobb-Douglas`earlier, whereas it only has increasing returns to scale or decreasing returns to scale on a specific range of value. Here, we specified to have $L \\in [0, 1.5]$, and we can see from the plot above, the returns to scale is only > 1 when L is less than 1, otherwise the return to scale is < 1. And, this is similar to the `cobb-douglas` that it is only increasing/decreasing on an interval of values (i.e. relation with $\\alpha_1 + \\alpha_2$)."
   ]
  },
  {
   "cell_type": "markdown",
   "id": "d0ea7bad",
   "metadata": {},
   "source": [
    "## Question 6\n",
    "\n",
    "Define a function that takes as input a list $y$ *of arbitrary length* that contains the monthly returns of an asset, (where each element in the list represents the returns in that month) along with a keyword argument for your monthly discount rate with the default value $r=0.05$, and returns the present daily value of the asset."
   ]
  },
  {
   "cell_type": "code",
   "execution_count": 17,
   "id": "ceedf160",
   "metadata": {
    "hide-output": false
   },
   "outputs": [],
   "source": [
    "# your code here\n",
    "\n",
    "# Takes input a list of monthly returns of an asset\n",
    "# monthly discount rate default to 0.05\n",
    "def asset_val(y, r=0.05):\n",
    "    total = 0\n",
    "    n = len(y)\n",
    "    for i in range(n):\n",
    "        total = total + (1/(1+r))**i * y[i]\n",
    "    return total"
   ]
  },
  {
   "cell_type": "markdown",
   "id": "9a96eb6e",
   "metadata": {},
   "source": [
    "Use your function to answer the following question:\n",
    "\n",
    "If you had a monthly discount factor of $r=0.1$, what is the most that you should pay for an asset that pays dividends of: $\\$1$ immediately when purchasing, $\\$10$ after the first month, $\\$14$ after the second month, $\\$18$ after three months, and finally $\\$100$ after six months?"
   ]
  },
  {
   "cell_type": "code",
   "execution_count": 18,
   "id": "fde1f7f2",
   "metadata": {},
   "outputs": [
    {
     "data": {
      "text/plain": [
       "91.63221644639953"
      ]
     },
     "execution_count": 18,
     "metadata": {},
     "output_type": "execute_result"
    }
   ],
   "source": [
    "# your code here\n",
    "y = [1, 10, 14, 18, 0, 0, 100]\n",
    "# override the default r of 0.05\n",
    "asset_val(y = y, r = 0.1)"
   ]
  }
 ],
 "metadata": {
  "date": 1627429658.1807241,
  "filename": "problem_set_3.md",
  "kernelspec": {
   "display_name": "Python [conda env:root] *",
   "language": "python",
   "name": "conda-root-py"
  },
  "language_info": {
   "codemirror_mode": {
    "name": "ipython",
    "version": 3
   },
   "file_extension": ".py",
   "mimetype": "text/x-python",
   "name": "python",
   "nbconvert_exporter": "python",
   "pygments_lexer": "ipython3",
   "version": "3.10.8"
  },
  "title": "Problem Set 3"
 },
 "nbformat": 4,
 "nbformat_minor": 5
}
