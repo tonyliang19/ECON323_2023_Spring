{
 "cells": [
  {
   "cell_type": "markdown",
   "id": "d097c3b3",
   "metadata": {},
   "source": [
    "# Problem Set 2\n",
    "\n",
    "Related lectures: [Control Flow](https://datascience.quantecon.org/../python_fundamentals/control_flow.html), [Functions](https://datascience.quantecon.org/../python_fundamentals/functions.html), and [Numpy](https://datascience.quantecon.org/../scientific/numpy_arrays.html)"
   ]
  },
  {
   "cell_type": "markdown",
   "id": "9f424d87",
   "metadata": {},
   "source": [
    "## Question 1\n",
    "For the tuple `foo` below, use a combination of `zip`, `range`, and `len` to mimic `enumerate(foo)`.\n",
    "\n",
    "Verify that your proposed solution is correct by converting each to a list and checking equality with `==`\n",
    "\n",
    "HINT: You can see what the answer should look like by starting with `list(enumerate(foo))`."
   ]
  },
  {
   "cell_type": "code",
   "execution_count": 15,
   "id": "4fb40791",
   "metadata": {},
   "outputs": [
    {
     "name": "stdout",
     "output_type": "stream",
     "text": [
      "This is list(enumerate(foo)): [(0, 'good'), (1, 'luck!')]\n",
      "This is my solution: [(0, 'good'), (1, 'luck!')]\n",
      "Evaluating comparison: True\n"
     ]
    }
   ],
   "source": [
    "foo = (\"good\", \"luck!\")\n",
    "# Your code goes here\n",
    "expected = list(enumerate(foo))\n",
    "actual = list(zip(range(len(foo)), foo))\n",
    "\n",
    "# Output the solution\n",
    "print(f\"This is list(enumerate(foo)): {expected}\")\n",
    "print(f\"This is my solution: {actual}\")\n",
    "print(f\"Evaluating comparison: {expected == actual}\")"
   ]
  },
  {
   "cell_type": "markdown",
   "id": "ad897ca8",
   "metadata": {
    "tags": []
   },
   "source": [
    "## Question 2\n",
    "\n",
    "Write a for loop that uses the lists of cities and states to print a message saying `“{city} is in {state}”`, where `{city}` and `{state}` are replaced by different values on each iteration.  You are *not* allowed to use `zip`."
   ]
  },
  {
   "cell_type": "code",
   "execution_count": 36,
   "id": "a71bf1ed",
   "metadata": {
    "hide-output": false
   },
   "outputs": [
    {
     "name": "stdout",
     "output_type": "stream",
     "text": [
      "Phoenix is in Arizona\n",
      "Austin is in Texas\n",
      "San Diego is in California\n",
      "New York is in New York\n"
     ]
    }
   ],
   "source": [
    "cities = [\"Phoenix\", \"Austin\", \"San Diego\", \"New York\"]\n",
    "states = [\"Arizona\", \"Texas\", \"California\", \"New York\"]\n",
    "\n",
    "# Your code here\n",
    "for index, city in enumerate(cities):\n",
    "    state = states[index]\n",
    "    print(f\"{city} is in {state}\")"
   ]
  },
  {
   "cell_type": "markdown",
   "id": "e0e78079",
   "metadata": {},
   "source": [
    "Now, do the same thing with a `for` loop using `zip`."
   ]
  },
  {
   "cell_type": "code",
   "execution_count": 37,
   "id": "e91962cf",
   "metadata": {
    "hide-output": false
   },
   "outputs": [
    {
     "name": "stdout",
     "output_type": "stream",
     "text": [
      "Phoenix is in Arizona\n",
      "Austin is in Texas\n",
      "San Diego is in California\n",
      "New York is in New York\n"
     ]
    }
   ],
   "source": [
    "cities = [\"Phoenix\", \"Austin\", \"San Diego\", \"New York\"]\n",
    "states = [\"Arizona\", \"Texas\", \"California\", \"New York\"]\n",
    "\n",
    "# Your code here\n",
    "for c, s in zip(cities, states):\n",
    "    print(f\"{c} is in {s}\")\n",
    "            "
   ]
  },
  {
   "cell_type": "markdown",
   "id": "8e867e8e",
   "metadata": {},
   "source": [
    "Write a function that takes in a tuple as `(city, state)` and returns a string  `“{city} is in {state}”` with the values substituted."
   ]
  },
  {
   "cell_type": "code",
   "execution_count": 23,
   "id": "7b894d0d",
   "metadata": {
    "hide-output": false
   },
   "outputs": [
    {
     "name": "stdout",
     "output_type": "stream",
     "text": [
      "Phoenix is in Arizona\n"
     ]
    }
   ],
   "source": [
    "# Your function here\n",
    "\n",
    "# Takes a tuple object (city, state)\n",
    "# prints city is in state\n",
    "def city_in_state(tup: tuple):\n",
    "    print(f\"{tup[0]} is in {tup[1]}\")\n",
    "city_in_state(tup = (\"Phoenix\", \"Arizona\"))"
   ]
  },
  {
   "cell_type": "markdown",
   "id": "dbad7a1a",
   "metadata": {},
   "source": [
    "## Question 3\n",
    "\n",
    "This exercise explores the concept of higher order functions, or functions\n",
    "that can be an input or output of another function.\n",
    "\n",
    "Below is code that implements a version of the generalized Cobb-Douglas production function which takes the form $ F(K, L) = z K^{\\alpha_1} L^{\\alpha_2} $.\n",
    "\n",
    "It takes as an argument `alpha_1`, `alpha_2`, and `z` and then\n",
    "*returns a function* that implements that parameterization of the\n",
    "Cobb-Douglas production function."
   ]
  },
  {
   "cell_type": "code",
   "execution_count": 24,
   "id": "963e83d4",
   "metadata": {
    "hide-output": false
   },
   "outputs": [],
   "source": [
    "def cobb_douglas_factory(alpha_1, alpha_2, z=1.0):\n",
    "    \"\"\"\n",
    "    Return a function F(K, L) that implements the generalized Cobb-Douglas\n",
    "    production function with parameters alpha_1, alpha_2, and z\n",
    "\n",
    "    The returned function takes the form F(K, L) = z K^{\\alpha_1} L^{\\alpha_2}\n",
    "    \"\"\"\n",
    "    # I'm defining a function inside a function\n",
    "    def return_func(K, L):\n",
    "        return z * K**alpha_1 * L**alpha_2\n",
    "\n",
    "    # Notice I'm returning a function! :mind_blown:\n",
    "    return return_func"
   ]
  },
  {
   "cell_type": "markdown",
   "id": "9a8b5fc9",
   "metadata": {},
   "source": [
    "We can use this function in two steps:\n",
    "\n",
    "1. Call it with `alpha_1`, `alpha_2`, and `z` and get a function in return.  \n",
    "1. Call the returned function with values of `K` and `L`.  \n",
    "\n",
    "\n",
    "Here’s how we would repeat the first Cobb-Douglas example from above:"
   ]
  },
  {
   "cell_type": "code",
   "execution_count": 25,
   "id": "785e9e71-596e-40c1-997e-065f69c8fc23",
   "metadata": {},
   "outputs": [],
   "source": [
    "F2 = cobb_douglas_factory(0.33, 1-0.33)"
   ]
  },
  {
   "cell_type": "code",
   "execution_count": 5,
   "id": "984e50fa",
   "metadata": {
    "hide-output": false
   },
   "outputs": [
    {
     "data": {
      "text/plain": [
       "0.6285066872609142"
      ]
     },
     "execution_count": 5,
     "metadata": {},
     "output_type": "execute_result"
    }
   ],
   "source": [
    "# step 1\n",
    "F2 = cobb_douglas_factory(0.33, 1-0.33)\n",
    "\n",
    "# step 2\n",
    "F2(1.0, 0.5)"
   ]
  },
  {
   "cell_type": "markdown",
   "id": "dd985d6e",
   "metadata": {},
   "source": [
    "Now, it is your turn…\n",
    "\n",
    "Re-write the `returns_to_scale` function above as we had in [Functions](https://datascience.quantecon.org/../python_fundamentals/functions.html) to accept an additional argument\n",
    "`F` that represents a production function. The function should take in `K` and `L`\n",
    "and return output.\n",
    "\n",
    "We’ve written some code below to get you started."
   ]
  },
  {
   "cell_type": "code",
   "execution_count": 28,
   "id": "4b897e24",
   "metadata": {
    "hide-output": false
   },
   "outputs": [],
   "source": [
    "def returns_to_scale2(F, K, L, gamma):\n",
    "    # production function, take in K, L\n",
    "    return F(K, L)"
   ]
  },
  {
   "cell_type": "markdown",
   "id": "153b6981",
   "metadata": {},
   "source": [
    "Test out your new function using the original `F2` that we defined above and\n",
    "using the `cobb_douglas` function defined earlier in the lecture. You can use\n",
    "similar sets of values to what we used in class for `K` and `L`.\n",
    "\n",
    "Do you get the same answer?"
   ]
  },
  {
   "cell_type": "code",
   "execution_count": 34,
   "id": "6d05044b-bd29-413c-b094-56ccb4dbd397",
   "metadata": {},
   "outputs": [
    {
     "ename": "TypeError",
     "evalue": "'float' object is not callable",
     "output_type": "error",
     "traceback": [
      "\u001b[1;31m---------------------------------------------------------------------------\u001b[0m",
      "\u001b[1;31mTypeError\u001b[0m                                 Traceback (most recent call last)",
      "Cell \u001b[1;32mIn[34], line 1\u001b[0m\n\u001b[1;32m----> 1\u001b[0m \u001b[43mreturns_to_scale2\u001b[49m\u001b[43m(\u001b[49m\u001b[43mF2\u001b[49m\u001b[43m(\u001b[49m\u001b[38;5;241;43m1.0\u001b[39;49m\u001b[43m,\u001b[49m\u001b[43m \u001b[49m\u001b[38;5;241;43m0.5\u001b[39;49m\u001b[43m)\u001b[49m\u001b[43m,\u001b[49m\u001b[43m \u001b[49m\u001b[38;5;241;43m1.0\u001b[39;49m\u001b[43m,\u001b[49m\u001b[43m \u001b[49m\u001b[38;5;241;43m0.5\u001b[39;49m\u001b[43m,\u001b[49m\u001b[43m \u001b[49m\u001b[38;5;241;43m2.0\u001b[39;49m\u001b[43m)\u001b[49m\n",
      "Cell \u001b[1;32mIn[28], line 3\u001b[0m, in \u001b[0;36mreturns_to_scale2\u001b[1;34m(F, K, L, gamma)\u001b[0m\n\u001b[0;32m      1\u001b[0m \u001b[38;5;28;01mdef\u001b[39;00m \u001b[38;5;21mreturns_to_scale2\u001b[39m(F, K, L, gamma):\n\u001b[0;32m      2\u001b[0m     \u001b[38;5;66;03m# production function, take in K, L\u001b[39;00m\n\u001b[1;32m----> 3\u001b[0m     \u001b[38;5;28;01mreturn\u001b[39;00m \u001b[43mF\u001b[49m\u001b[43m(\u001b[49m\u001b[43mK\u001b[49m\u001b[43m,\u001b[49m\u001b[43m \u001b[49m\u001b[43mL\u001b[49m\u001b[43m)\u001b[49m\n",
      "\u001b[1;31mTypeError\u001b[0m: 'float' object is not callable"
     ]
    }
   ],
   "source": [
    "returns_to_scale2(F2(1.0, 0.5), 1.0, 0.5, 2.0)"
   ]
  },
  {
   "cell_type": "code",
   "execution_count": 30,
   "id": "d2b000ef-d581-48b6-8bc0-dd2d8867b21b",
   "metadata": {},
   "outputs": [
    {
     "data": {
      "text/plain": [
       "0.6285066872609142"
      ]
     },
     "execution_count": 30,
     "metadata": {},
     "output_type": "execute_result"
    }
   ],
   "source": [
    "F2(1, 0.5)"
   ]
  },
  {
   "cell_type": "markdown",
   "id": "cd010414",
   "metadata": {},
   "source": [
    "## Question 4\n",
    "\n",
    "Let’s use our `cobb_douglas_factory` and `returns_to_scale2` functions\n",
    "to study returns to scale.\n",
    "\n",
    "What are the returns to scale when you set `alpha_1 = 0.3` and `alpha_2 = 0.6`?"
   ]
  },
  {
   "cell_type": "code",
   "execution_count": 9,
   "id": "d41e1d8b",
   "metadata": {
    "hide-output": false
   },
   "outputs": [],
   "source": [
    "# test with alpha_1 = 0.3 and alpha_2 = 0.6"
   ]
  },
  {
   "cell_type": "markdown",
   "id": "5964f0ea",
   "metadata": {},
   "source": [
    "What about when you use `alpha_1 = 0.4` and `alpha_2 = 0.65`?"
   ]
  },
  {
   "cell_type": "code",
   "execution_count": 10,
   "id": "e10f8658",
   "metadata": {
    "hide-output": false
   },
   "outputs": [],
   "source": [
    "# test with alpha_1 = 0.4 and alpha_2 = 0.65"
   ]
  },
  {
   "cell_type": "markdown",
   "id": "6a83ddd3",
   "metadata": {},
   "source": [
    "What do returns to scale have to do with the quantity $ \\alpha_1 + \\alpha_2 $? When will returns to scale be greater or less than 1?"
   ]
  },
  {
   "cell_type": "code",
   "execution_count": 11,
   "id": "316b289b",
   "metadata": {
    "hide-output": false
   },
   "outputs": [],
   "source": [
    "# your code here (optional)"
   ]
  },
  {
   "cell_type": "markdown",
   "id": "69824d4a",
   "metadata": {},
   "source": []
  },
  {
   "cell_type": "markdown",
   "id": "778808d5",
   "metadata": {},
   "source": [
    "## Question 5\n",
    "\n",
    "Take a production function of only labor, `L`, with the following form\n",
    "\n",
    "$$\n",
    "f(L) = \\begin{cases} L^2 & \\text{ for } L \\in [0, 1)\\\\\n",
    "                    \\sqrt{L} & \\text{ for } L \\in [1, 2]\n",
    "        \\end{cases}\n",
    "$$\n",
    "\n",
    "Write a function to calculate the marginal product of labor (MPL) numerically by using a method similar to what we did in class."
   ]
  },
  {
   "cell_type": "code",
   "execution_count": 12,
   "id": "a478204c",
   "metadata": {
    "hide-output": false
   },
   "outputs": [],
   "source": [
    "# your code here"
   ]
  },
  {
   "cell_type": "markdown",
   "id": "ece06a31",
   "metadata": {},
   "source": [
    "Plot the MPL for $ L \\in [0,2] $  (you can choose some sort of grid over those numbers with `np.linspace`)."
   ]
  },
  {
   "cell_type": "code",
   "execution_count": 13,
   "id": "055a0ade",
   "metadata": {
    "hide-output": false
   },
   "outputs": [],
   "source": [
    "# your code here"
   ]
  },
  {
   "cell_type": "markdown",
   "id": "22f3e670",
   "metadata": {},
   "source": [
    "Consider the scenario where you increase the scale of production by a factor of 10 percent more labor. Plot the returns to scale for a grid on $ L \\in [0, 1.5] $.\n",
    "*Hint:* For this, you may need to write your own version of the `returns_to_scale` function specific to this production function or carefully use the one above. Either way of implementation is fine."
   ]
  },
  {
   "cell_type": "code",
   "execution_count": 14,
   "id": "0bffdaa5",
   "metadata": {
    "hide-output": false
   },
   "outputs": [],
   "source": [
    "# your code here"
   ]
  },
  {
   "cell_type": "markdown",
   "id": "480e83c8",
   "metadata": {},
   "source": [
    "Compare these returns to the scale of the Cobb-Douglas functions we have worked with."
   ]
  },
  {
   "cell_type": "markdown",
   "id": "d0ea7bad",
   "metadata": {},
   "source": [
    "## Question 6\n",
    "\n",
    "Define a function that takes as input a list $y$ *of arbitrary length* that contains the monthly returns of an asset, (where each element in the list represents the returns in that month) along with a keyword argument for your monthly discount rate with the default value $r=0.05$, and returns the present daily value of the asset."
   ]
  },
  {
   "cell_type": "code",
   "execution_count": 39,
   "id": "ceedf160",
   "metadata": {
    "hide-output": false
   },
   "outputs": [],
   "source": [
    "# your code here\n",
    "\n",
    "# Takes input a list of monthly returns of an asset\n",
    "# monthly discount rate default to 0.05\n",
    "def asset_val(y, r=0.05):\n",
    "    return 0\n",
    "        "
   ]
  },
  {
   "cell_type": "markdown",
   "id": "9a96eb6e",
   "metadata": {},
   "source": [
    "Use your function to answer the following question:\n",
    "\n",
    "If you had a monthly discount factor of $r=0.1$, what is the most that you should pay for an asset that pays dividends of: $\\$1$ immediately when purchasing, $\\$10$ after the first month, $\\$14$ after the second month, $\\$18$ after three months, and finally $\\$100$ after six months?"
   ]
  },
  {
   "cell_type": "code",
   "execution_count": null,
   "id": "fde1f7f2",
   "metadata": {},
   "outputs": [],
   "source": [
    "# your code here"
   ]
  }
 ],
 "metadata": {
  "date": 1627429658.1807241,
  "filename": "problem_set_3.md",
  "kernelspec": {
   "display_name": "Python 3 (ipykernel)",
   "language": "python",
   "name": "python3"
  },
  "language_info": {
   "codemirror_mode": {
    "name": "ipython",
    "version": 3
   },
   "file_extension": ".py",
   "mimetype": "text/x-python",
   "name": "python",
   "nbconvert_exporter": "python",
   "pygments_lexer": "ipython3",
   "version": "3.10.8"
  },
  "title": "Problem Set 3"
 },
 "nbformat": 4,
 "nbformat_minor": 5
}
